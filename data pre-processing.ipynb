{
 "cells": [
  {
   "cell_type": "code",
   "execution_count": 1,
   "id": "9d7fbe3b-e090-471b-9a11-0fab148887cc",
   "metadata": {},
   "outputs": [],
   "source": [
    "import csv\n",
    "import re\n",
    "import pandas as pd\n",
    "\n",
    "NO_PROMPT_SEQUENCE = \"<<NO PROMPT>>\"\n"
   ]
  },
  {
   "cell_type": "code",
   "execution_count": 2,
   "id": "6a425d97-83ed-43d8-be00-8ac5ecb4ae96",
   "metadata": {},
   "outputs": [],
   "source": [
    "def remove_bracketed_comments(old_file, new_file):\n",
    "    with open(new_file, 'w') as new_file:\n",
    "        new_file_writer = csv.writer(new_file)\n",
    "        \n",
    "        with open(old_file, 'r') as old_file:    \n",
    "            old_file_reader = csv.reader(old_file)\n",
    "            \n",
    "            # Write title into new csv file\n",
    "            new_file_writer.writerow(next(old_file_reader))\n",
    "            \n",
    "            # Iterate through old csv file by line, remove bracketed text, save modified line in new csv file\n",
    "            for person, comment in old_file_reader:\n",
    "                regex = re.sub(\"\\[(.*?)\\]\", '', comment)\n",
    "                regex = re.sub(\"\\[(.*?)\", '', regex)\n",
    "                \n",
    "                new_file_writer.writerow([person, regex])"
   ]
  },
  {
   "cell_type": "code",
   "execution_count": 3,
   "id": "efe46e6f-0a63-4e4a-8aa5-bc42a4c592fc",
   "metadata": {},
   "outputs": [],
   "source": [
    "def filter_prompt_response_pairs(old_file, new_file, log=False):\n",
    "    line_number = 1\n",
    "    prev_name = None\n",
    "    prev_line = None\n",
    "    \n",
    "    with open(new_file, 'w') as new_file:\n",
    "        new_file_writer = csv.writer(new_file)\n",
    "        new_file_writer.writerow([\"name\", \"response\", \"prompt\"])\n",
    "        \n",
    "        with open(old_file, 'r') as old_file:\n",
    "            old_file_reader = csv.reader(old_file)\n",
    "                        \n",
    "            \"\"\" iterate through all the rows in the file, saving the speaker, their line, and the prev line\n",
    "            If the speaker is the same as the previous speaker, it is assumed the scene has changed, so the\n",
    "            prev line is saved as null \"\"\"\n",
    "            next(old_file_reader, None)\n",
    "            for row in old_file_reader:\n",
    "                name = row[0]\n",
    "                response = row[1]\n",
    "                if name != prev_name and prev_line != None:\n",
    "                    prompt = prev_line\n",
    "                else:\n",
    "                    prompt = NO_PROMPT_SEQUENCE\n",
    "                    if log:\n",
    "                        print(f\"NO PROMPT FOUND FOR LINE {line_number}\")\n",
    "                new_file_writer.writerow([name, response, prompt])\n",
    "                prev_name = name\n",
    "                prev_line = response\n",
    "                line_number += 1        "
   ]
  },
  {
   "cell_type": "code",
   "execution_count": 4,
   "id": "e673f5f7-12eb-486c-a92d-016301a580e7",
   "metadata": {},
   "outputs": [],
   "source": [
    "def filter_by_name(old_file, new_file, name):\n",
    "    dataframe = pd.read_csv(old_file)\n",
    "    new_dataframe = dataframe.loc[dataframe[\"name\"] == name]\n",
    "    new_dataframe.to_csv(new_file, index=False)"
   ]
  },
  {
   "cell_type": "code",
   "execution_count": 5,
   "id": "43040147-646f-4dfd-9ad5-de41e80fc6a9",
   "metadata": {},
   "outputs": [],
   "source": [
    "def replace_no_prompt_sequence(old_file, new_file, replacement):\n",
    "    dataframe = pd.read_csv(old_file)\n",
    "    new_dataframe = dataframe.replace(NO_PROMPT_SEQUENCE, replacement)\n",
    "    new_dataframe.to_csv(new_file, index = False)"
   ]
  },
  {
   "cell_type": "code",
   "execution_count": 6,
   "id": "9312b9b0-1cf6-4cb2-882d-2ad21956d8be",
   "metadata": {},
   "outputs": [],
   "source": [
    "def get_final_dataset(old_file, new_file):\n",
    "    dataframe = pd.read_csv(old_file)\n",
    "    new_dataframe = dataframe.loc[:, [\"prompt\", \"response\"]]\n",
    "    new_dataframe.to_csv(new_file, index = False)"
   ]
  },
  {
   "cell_type": "code",
   "execution_count": 7,
   "id": "22e71134-be84-48c9-b120-d54478bc67ee",
   "metadata": {
    "tags": []
   },
   "outputs": [],
   "source": [
    "file = \"Tony.csv\"\n",
    "new_file = \"removed_bracketed_comments.csv\"\n",
    "remove_bracketed_comments(file, new_file)"
   ]
  },
  {
   "cell_type": "code",
   "execution_count": 8,
   "id": "01c3640d-f0e0-4b67-883c-d0241a4fe78f",
   "metadata": {
    "tags": []
   },
   "outputs": [],
   "source": [
    "file = new_file\n",
    "new_file = \"prompt_response.csv\"\n",
    "\n",
    "filter_prompt_response_pairs(file, new_file)"
   ]
  },
  {
   "cell_type": "code",
   "execution_count": 9,
   "id": "8b1a0b9e-53c4-46b5-aaed-cac716c0ec81",
   "metadata": {},
   "outputs": [],
   "source": [
    "file = new_file\n",
    "new_file = \"tony_stark_prompt_response.csv\"\n",
    "person = \"Tony\"\n",
    "\n",
    "filter_by_name(file, new_file, person)"
   ]
  },
  {
   "cell_type": "code",
   "execution_count": 10,
   "id": "b7cdfbfe-3765-4a29-a0fc-ead2c717721f",
   "metadata": {},
   "outputs": [],
   "source": [
    "file = new_file\n",
    "new_file = \"tony_stark_prompt_response_with_replacement.csv\"\n",
    "replacement = \"iron man\"\n",
    "\n",
    "replace_no_prompt_sequence(file, new_file, replacement)"
   ]
  },
  {
   "cell_type": "code",
   "execution_count": 11,
   "id": "a80d0cc5-8d6f-415f-a15e-fb8aee14a5f3",
   "metadata": {},
   "outputs": [],
   "source": [
    "file = new_file\n",
    "new_file = \"FINAL_DATA.csv\"\n",
    "\n",
    "get_final_dataset(file, new_file)"
   ]
  },
  {
   "cell_type": "code",
   "execution_count": null,
   "id": "6bc958f1-32ac-434e-a363-6ed5b511f1e5",
   "metadata": {},
   "outputs": [],
   "source": []
  }
 ],
 "metadata": {
  "kernelspec": {
   "display_name": "Python 3 (ipykernel)",
   "language": "python",
   "name": "python3"
  },
  "language_info": {
   "codemirror_mode": {
    "name": "ipython",
    "version": 3
   },
   "file_extension": ".py",
   "mimetype": "text/x-python",
   "name": "python",
   "nbconvert_exporter": "python",
   "pygments_lexer": "ipython3",
   "version": "3.9.10"
  }
 },
 "nbformat": 4,
 "nbformat_minor": 5
}
